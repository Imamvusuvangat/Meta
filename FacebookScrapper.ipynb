{
  "nbformat": 4,
  "nbformat_minor": 0,
  "metadata": {
    "colab": {
      "provenance": []
    },
    "kernelspec": {
      "name": "python3",
      "display_name": "Python 3"
    },
    "language_info": {
      "name": "python"
    }
  },
  "cells": [
    {
      "cell_type": "markdown",
      "source": [
        "**Langkah-langkah**\n",
        "\n",
        "1. Buat aplikasi di Facebook Developers Console.\n",
        "2. Dapatkan Access Token dengan izin yang sesuai (misalnya, user_posts, pages_read_engagement)."
      ],
      "metadata": {
        "id": "o9WuP28N385B"
      }
    },
    {
      "cell_type": "code",
      "execution_count": 1,
      "metadata": {
        "id": "JPnlyYjQvnm_"
      },
      "outputs": [],
      "source": [
        "# Import library\n",
        "import requests\n",
        "import pandas as pd"
      ]
    },
    {
      "cell_type": "code",
      "source": [
        "# Masukkan Access Token Anda di sini\n",
        "ACCESS_TOKEN = \"EAAcfPZAX7SBsBOZB8bvlFYzFx9MIJX1o1zreFYr6sTVg5znnZAOSKm54Hq9YDvAxZAAo40qeLPNlBXP3j1ZANNrtlrslmtqyRJrcQm3flHxB2yo2sPy17Kakk5za6yTSCqu8JzXN9f0YOf1cKRZA8po1sN9QO2kPRf7KSTkHOUJ9SyazreZBWEMcAZAU5AtmpzDm\"\n",
        "POST_ID = \"8574513689314301\"  # ID Postingan Facebook yang ingin diambil komentarnya\n",
        "\n",
        "# URL Graph API untuk mendapatkan komentar pada sebuah postingan\n",
        "BASE_URL = f\"https://graph.facebook.com/v17.0/{POST_ID}/comments\""
      ],
      "metadata": {
        "id": "pB4m9dCj4Np1"
      },
      "execution_count": 5,
      "outputs": []
    },
    {
      "cell_type": "markdown",
      "source": [
        "1. Access Token:\n",
        "\n",
        "* Anda harus mengganti ACCESS_TOKEN di dalam kode dengan token yang Anda dapatkan dari Facebook Developers Console.\n",
        "\n",
        "```\n",
        "ACCESS_TOKEN = \"EAAGm0PX...<Access Token Anda>\"\n",
        "\n",
        "```\n",
        "\n",
        "2. Post ID:\n",
        "\n",
        "* Masukkan ID dari postingan Facebook yang ingin Anda ambil datanya. Contoh ID:\n",
        "\n",
        "```\n",
        "POST_ID = \"1234567890123456\"\n",
        "\n",
        "```\n",
        "\n",
        "\n",
        "\n",
        "\n"
      ],
      "metadata": {
        "id": "_kueqnjV9ZYs"
      }
    },
    {
      "cell_type": "code",
      "source": [
        "# Mengambil komentar\n",
        "def fetch_comments(access_token, base_url):\n",
        "    \"\"\"\n",
        "    Fungsi untuk mengambil komentar dari sebuah postingan menggunakan Graph API.\n",
        "    \"\"\"\n",
        "    comments = []  # List untuk menyimpan data komentar\n",
        "    params = {\n",
        "        \"access_token\": access_token,\n",
        "        \"fields\": \"id,message,created_time,from{name,id}\",  # Field yang diambil\n",
        "        \"limit\": 100,  # Batas jumlah data per halaman\n",
        "    }\n",
        "\n",
        "    # Loop untuk mengambil semua komentar (paging)\n",
        "    while True:\n",
        "        # Kirim permintaan GET ke API\n",
        "        response = requests.get(base_url, params=params)\n",
        "        data = response.json()\n",
        "\n",
        "        # Periksa apakah ada error\n",
        "        if \"error\" in data:\n",
        "            print(\"Error:\", data[\"error\"][\"message\"])\n",
        "            break\n",
        "\n",
        "        # Tambahkan komentar ke dalam list\n",
        "        if \"data\" in data:\n",
        "            comments.extend(data[\"data\"])\n",
        "\n",
        "        # Periksa apakah ada halaman berikutnya\n",
        "        if \"paging\" in data and \"next\" in data[\"paging\"]:\n",
        "            base_url = data[\"paging\"][\"next\"]\n",
        "        else:\n",
        "            break\n",
        "\n",
        "    return comments"
      ],
      "metadata": {
        "id": "3nabmoU54Wcr"
      },
      "execution_count": 6,
      "outputs": []
    },
    {
      "cell_type": "code",
      "source": [
        "# Ambil komentar dari postingan\n",
        "comments = fetch_comments(ACCESS_TOKEN, BASE_URL)\n",
        "\n",
        "# Tampilkan jumlah komentar yang diambil\n",
        "print(f\"Total komentar yang diambil: {len(comments)}\")"
      ],
      "metadata": {
        "id": "4F9IaupL4stU",
        "colab": {
          "base_uri": "https://localhost:8080/"
        },
        "outputId": "cd9be28f-3358-46d8-e53e-de1c968a01c3"
      },
      "execution_count": 7,
      "outputs": [
        {
          "output_type": "stream",
          "name": "stdout",
          "text": [
            "Error: Unsupported get request. Object with ID '8574513689314301' does not exist, cannot be loaded due to missing permissions, or does not support this operation. Please read the Graph API documentation at https://developers.facebook.com/docs/graph-api\n",
            "Total komentar yang diambil: 0\n"
          ]
        }
      ]
    },
    {
      "cell_type": "code",
      "source": [
        "# Simpan data ke dalam DataFrame\n",
        "df = pd.DataFrame(comments)\n",
        "\n",
        "# Pisahkan data 'from' menjadi kolom baru\n",
        "if not df.empty:\n",
        "    df['user_name'] = df['from'].apply(lambda x: x['name'] if pd.notnull(x) else None)\n",
        "    df['user_id'] = df['from'].apply(lambda x: x['id'] if pd.notnull(x) else None)\n",
        "    df.drop(columns=['from'], inplace=True)  # Hapus kolom 'from' asli"
      ],
      "metadata": {
        "id": "oebDFwLY40oR"
      },
      "execution_count": null,
      "outputs": []
    },
    {
      "cell_type": "code",
      "source": [
        "# Simpan DataFrame ke file CSV\n",
        "df.to_csv(\"facebook_comments.csv\", index=False)\n",
        "print(\"Komentar berhasil disimpan ke file 'facebook_comments.csv'.\")\n",
        "\n",
        "# Tampilkan beberapa data untuk dicek\n",
        "df.head()"
      ],
      "metadata": {
        "id": "AuOT7SYj4_Pk"
      },
      "execution_count": null,
      "outputs": []
    }
  ]
}