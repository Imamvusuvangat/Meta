{
  "nbformat": 4,
  "nbformat_minor": 0,
  "metadata": {
    "colab": {
      "provenance": []
    },
    "kernelspec": {
      "name": "python3",
      "display_name": "Python 3"
    },
    "language_info": {
      "name": "python"
    }
  },
  "cells": [
    {
      "cell_type": "markdown",
      "source": [
        "**Siapkan Akses API**\n",
        "\n",
        "Langkah-langkah:\n",
        "1. Buat Aplikasi di Meta for Developers:\n",
        "* Masuk ke Meta for Developers.\n",
        "* Klik Create App, pilih tipe aplikasi Business, lalu ikuti langkah-langkahnya.\n",
        "\n",
        "2. Tambahkan Instagram Graph API:\n",
        "* Pilih Add Product, lalu tambahkan Instagram Graph API.\n",
        "\n",
        "3. Dapatkan Access Token:\n",
        "* Hubungkan akun Instagram Anda ke halaman Facebook.\n",
        "* Buat Access Token dengan izin berikut:\n",
        " * instagram_basic\n",
        " * instagram_manage_comments\n",
        " * pages_read_engagement\n",
        "* Simpan Access Token tersebut.\n",
        "\n",
        "4. Dapatkan Media ID dari Postingan:\n",
        "* Gunakan endpoint berikut di API Graph Explorer:\n",
        "```\n",
        "https://graph.facebook.com/v16.0/{user_id}/media?fields=id,caption&access_token={ACCESS_TOKEN}\n",
        "```\n",
        "\n",
        "* Ganti {user_id} dengan User ID akun Instagram Anda dan {ACCESS_TOKEN} dengan token Anda.\n",
        "\n",
        "* Output akan berupa daftar postingan, misalnya:\n",
        "\n",
        "```\n",
        "{\n",
        "  \"data\": [\n",
        "    {\n",
        "      \"id\": \"17895695668004550\",\n",
        "      \"caption\": \"Contoh caption postingan.\"\n",
        "    }\n",
        "  ]\n",
        "}\n",
        "```\n",
        "* Catat Media ID (17895695668004550 pada contoh di atas).\n",
        "\n",
        "\n"
      ],
      "metadata": {
        "id": "LmhiSsh0xB2Z"
      }
    },
    {
      "cell_type": "code",
      "source": [
        "# Install library requests\n",
        "!pip install requests"
      ],
      "metadata": {
        "id": "LJr925BvciyS"
      },
      "execution_count": null,
      "outputs": []
    },
    {
      "cell_type": "code",
      "source": [
        "# Import library\n",
        "import requests\n",
        "import json"
      ],
      "metadata": {
        "id": "c7XkyeLacn4B"
      },
      "execution_count": 35,
      "outputs": []
    },
    {
      "cell_type": "code",
      "source": [
        "# Fungsi untuk mendapatkan komentar dari sebuah postingan\n",
        "def get_instagram_comments(access_token, media_id):\n",
        "    \"\"\"\n",
        "    Mengambil komentar dari sebuah postingan Instagram.\n",
        "    :param access_token: Access Token dari Instagram Graph API\n",
        "    :param media_id: ID Media dari postingan Instagram\n",
        "    :return: List komentar\n",
        "    \"\"\"\n",
        "    url = f\"https://graph.facebook.com/v16.0/{media_id}/comments\"\n",
        "\n",
        "    # Parameter untuk request\n",
        "    params = {\n",
        "        \"access_token\": access_token,\n",
        "        \"fields\": \"username,text,created_time\"\n",
        "    }\n",
        "\n",
        "    try:\n",
        "        response = requests.get(url, params=params)\n",
        "        data = response.json()\n",
        "\n",
        "        if \"data\" in data:\n",
        "            print(f\"Berhasil mengambil {len(data['data'])} komentar.\")\n",
        "            return data[\"data\"]\n",
        "        else:\n",
        "            print(f\"Error: {data.get('error', 'Tidak ada komentar ditemukan.')}\")\n",
        "            return []\n",
        "    except Exception as e:\n",
        "        print(f\"Error: {e}\")\n",
        "        return []"
      ],
      "metadata": {
        "id": "bxHdHQMAcpi3"
      },
      "execution_count": 36,
      "outputs": []
    },
    {
      "cell_type": "code",
      "source": [
        "# Fungsi untuk menyimpan komentar ke file JSON\n",
        "def save_comments_to_json(comments, filename=\"comments.json\"):\n",
        "    \"\"\"\n",
        "    Menyimpan komentar ke dalam file JSON.\n",
        "    :param comments: List komentar\n",
        "    :param filename: Nama file JSON\n",
        "    \"\"\"\n",
        "    try:\n",
        "        with open(filename, \"w\") as file:\n",
        "            json.dump(comments, file, indent=4)\n",
        "        print(f\"Komentar berhasil disimpan ke {filename}\")\n",
        "    except Exception as e:\n",
        "        print(f\"Error saat menyimpan komentar: {e}\")"
      ],
      "metadata": {
        "id": "lP7CWViqdsMS"
      },
      "execution_count": 37,
      "outputs": []
    },
    {
      "cell_type": "code",
      "source": [
        "# Masukkan Access Token dari Instagram Graph API\n",
        "access_token = input(\"Masukkan Access Token Anda: \")"
      ],
      "metadata": {
        "id": "rp2zEhDGdx1J"
      },
      "execution_count": null,
      "outputs": []
    },
    {
      "cell_type": "code",
      "source": [
        "# Masukkan ID Media dari postingan Instagram\n",
        "media_id = input(\"Masukkan Media ID dari postingan Instagram: \")"
      ],
      "metadata": {
        "id": "NG2ggXmhfkeP"
      },
      "execution_count": null,
      "outputs": []
    },
    {
      "cell_type": "markdown",
      "source": [
        "**Contoh Input dan Output**\n",
        "\n",
        "\n",
        "Input:\n",
        "```\n",
        "Masukkan Access Token Anda: EAACEdE...\n",
        "Masukkan Media ID dari postingan Instagram: 17895695668004550\n",
        "```\n",
        "\n",
        "Output:\n",
        "```\n",
        "Berhasil mengambil 3 komentar.\n",
        "Komentar berhasil disimpan ke comments.json\n",
        "```\n",
        "\n",
        "File Output (comments.json):\n",
        "```\n",
        "[\n",
        "    {\n",
        "        \"username\": \"user1\",\n",
        "        \"text\": \"Komentar pertama\",\n",
        "        \"created_time\": \"2024-11-19T10:00:00+0000\"\n",
        "    },\n",
        "    {\n",
        "        \"username\": \"user2\",\n",
        "        \"text\": \"Komentar kedua\",\n",
        "        \"created_time\": \"2024-11-19T10:05:00+0000\"\n",
        "    },\n",
        "    {\n",
        "        \"username\": \"user3\",\n",
        "        \"text\": \"Komentar ketiga\",\n",
        "        \"created_time\": \"2024-11-19T10:10:00+0000\"\n",
        "    }\n",
        "]\n",
        "```\n",
        "\n",
        "\n",
        "\n"
      ],
      "metadata": {
        "id": "0A-emkj-zcwM"
      }
    },
    {
      "cell_type": "code",
      "source": [
        "# Ambil komentar dari postingan\n",
        "comments = get_instagram_comments(access_token, media_id)\n",
        "\n",
        "# Simpan komentar ke file JSON\n",
        "save_comments_to_json(comments)"
      ],
      "metadata": {
        "id": "yXROs9RxgSrw"
      },
      "execution_count": null,
      "outputs": []
    },
    {
      "cell_type": "code",
      "source": [
        "import pandas as pd"
      ],
      "metadata": {
        "id": "LpqJT2NM0eyT"
      },
      "execution_count": 41,
      "outputs": []
    },
    {
      "cell_type": "code",
      "source": [
        "# Baca file JSON\n",
        "comments = pd.read_json(\"comments.json\")\n",
        "\n",
        "# Tampilkan data\n",
        "print(comments)"
      ],
      "metadata": {
        "id": "ghcO7hpJ0h_A"
      },
      "execution_count": null,
      "outputs": []
    },
    {
      "cell_type": "markdown",
      "source": [
        "**Catatan**\n",
        "\n",
        "* Jika Anda tidak tahu User ID akun Instagram, gunakan endpoint berikut:\n",
        "\n",
        "```\n",
        "https://graph.facebook.com/v16.0/me/accounts?access_token={ACCESS_TOKEN}\n",
        "```\n",
        "\n",
        "Endpoint ini akan mengembalikan halaman Facebook yang terhubung ke akun Instagram Anda beserta User ID-nya.\n",
        "\n",
        "* Access Token Expired: Jika token habis masa berlaku, buat token baru melalui API Graph Explorer.\n",
        "* Batasan API: Graph API memiliki batasan kuota panggilan. Hindari penggunaan berlebihan agar akun Anda tidak dibatasi.\n",
        "\n",
        "\n",
        "\n",
        "\n",
        "\n",
        "\n"
      ],
      "metadata": {
        "id": "BxzLQ31K1Hg-"
      }
    }
  ]
}